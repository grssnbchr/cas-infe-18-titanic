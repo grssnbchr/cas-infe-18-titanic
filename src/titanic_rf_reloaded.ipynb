{
 "cells": [
  {
   "cell_type": "markdown",
   "metadata": {},
   "source": [
    "## Random Forest \"Reloaded\""
   ]
  },
  {
   "cell_type": "code",
   "execution_count": 122,
   "metadata": {},
   "outputs": [],
   "source": [
    "\"\"\"\n",
    "A more advanced version of the random forest predictor, with\n",
    "- advanced feature engineering\n",
    "- grid search\n",
    "- cross validation\n",
    "\n",
    "@author: timo, team8, 8team\n",
    "\"\"\"\n",
    "\n",
    "# utilities\n",
    "\n",
    "import numpy as np\n",
    "import pandas as pd\n",
    "import titanic_helpers as th\n",
    "\n",
    "# visualization\n",
    "import seaborn as sns\n",
    "import matplotlib.pyplot as plt\n",
    "\n",
    "# ml\n",
    "from sklearn.ensemble import RandomForestClassifier"
   ]
  },
  {
   "cell_type": "markdown",
   "metadata": {},
   "source": [
    "## Part 1: Data Preparation"
   ]
  },
  {
   "cell_type": "code",
   "execution_count": 108,
   "metadata": {},
   "outputs": [],
   "source": [
    "train_df = pd.read_csv('../data/titanic3_train.csv',  delimiter=';')\n",
    "test_df = pd.read_csv('../data/titanic3_test.csv',  delimiter=';')\n"
   ]
  },
  {
   "cell_type": "markdown",
   "metadata": {},
   "source": [
    "Have a look at the data:"
   ]
  },
  {
   "cell_type": "code",
   "execution_count": 109,
   "metadata": {},
   "outputs": [
    {
     "data": {
      "text/plain": [
       "array(['id', 'pclass', 'name', 'surname', 'sex', 'age', 'sibsp', 'parch',\n",
       "       'ticket', 'fare', 'cabin', 'embarked', 'boat', 'body', 'home.dest'],\n",
       "      dtype=object)"
      ]
     },
     "execution_count": 109,
     "metadata": {},
     "output_type": "execute_result"
    }
   ],
   "source": [
    "test_df.columns.values"
   ]
  },
  {
   "cell_type": "code",
   "execution_count": 110,
   "metadata": {},
   "outputs": [
    {
     "name": "stdout",
     "output_type": "stream",
     "text": [
      "id             0\n",
      "pclass         0\n",
      "survived       0\n",
      "name           0\n",
      "surname        0\n",
      "sex            0\n",
      "age          211\n",
      "sibsp          0\n",
      "parch          0\n",
      "ticket         0\n",
      "fare           1\n",
      "cabin        817\n",
      "embarked       1\n",
      "boat         661\n",
      "body         951\n",
      "home.dest    456\n",
      "dtype: int64\n"
     ]
    }
   ],
   "source": [
    "missing_val_count_by_column = (train_df.isnull().sum())\n",
    "print(missing_val_count_by_column[missing_val_count_by_column > -1])"
   ]
  },
  {
   "cell_type": "code",
   "execution_count": 111,
   "metadata": {},
   "outputs": [
    {
     "name": "stdout",
     "output_type": "stream",
     "text": [
      "['id' 'pclass' 'survived' 'name' 'surname' 'sex' 'age' 'sibsp' 'parch'\n",
      " 'ticket' 'fare' 'cabin' 'embarked' 'boat' 'body' 'home.dest']\n",
      "      id  pclass  survived       name  \\\n",
      "484  606       3         1   Abelseth   \n",
      "177  222       1         0      Ostby   \n",
      "506  633       3         0  Andersson   \n",
      "\n",
      "                                            surname     sex   age  sibsp  \\\n",
      "484                             Mr. Olaus Jorgensen    male  25.0      0   \n",
      "177                         Mr. Engelhart Cornelius    male  65.0      0   \n",
      "506  Mrs. Anders Johan (Alfrida Konstantia Brogren)  female  39.0      1   \n",
      "\n",
      "     parch  ticket     fare  cabin embarked boat   body            home.dest  \n",
      "484      0  348122   7.6500  F G63        S    A    NaN   Perkins County, SD  \n",
      "177      1  113509  61.9792    B30        C  NaN  234.0       Providence, RI  \n",
      "506      5  347082  31.2750    NaN        S  NaN    NaN  Sweden Winnipeg, MN  \n",
      "<class 'pandas.core.frame.DataFrame'>\n",
      "RangeIndex: 1048 entries, 0 to 1047\n",
      "Data columns (total 16 columns):\n",
      "id           1048 non-null int64\n",
      "pclass       1048 non-null int64\n",
      "survived     1048 non-null int64\n",
      "name         1048 non-null object\n",
      "surname      1048 non-null object\n",
      "sex          1048 non-null object\n",
      "age          837 non-null float64\n",
      "sibsp        1048 non-null int64\n",
      "parch        1048 non-null int64\n",
      "ticket       1048 non-null object\n",
      "fare         1047 non-null float64\n",
      "cabin        231 non-null object\n",
      "embarked     1047 non-null object\n",
      "boat         387 non-null object\n",
      "body         97 non-null float64\n",
      "home.dest    592 non-null object\n",
      "dtypes: float64(3), int64(5), object(8)\n",
      "memory usage: 131.1+ KB\n"
     ]
    }
   ],
   "source": [
    "print(train_df.columns.values)\n",
    "\n",
    "print(train_df.sample(3))\n",
    "\n",
    "train_df.info()"
   ]
  },
  {
   "cell_type": "markdown",
   "metadata": {},
   "source": [
    "### Variable preparation"
   ]
  },
  {
   "cell_type": "markdown",
   "metadata": {},
   "source": [
    "Drop some columns."
   ]
  },
  {
   "cell_type": "code",
   "execution_count": 112,
   "metadata": {},
   "outputs": [],
   "source": [
    "# save passenger ids for submission\n",
    "test_ids = test_df['id']\n",
    "\n",
    "def drop_columns(df):\n",
    "    return df.drop(['id', 'ticket', 'embarked', 'home.dest', 'boat', 'body'], axis=1)\n",
    "\n",
    "train_df = drop_columns(train_df)\n",
    "test_df = drop_columns(test_df)"
   ]
  },
  {
   "cell_type": "code",
   "execution_count": 113,
   "metadata": {},
   "outputs": [
    {
     "name": "stdout",
     "output_type": "stream",
     "text": [
      "<class 'pandas.core.frame.DataFrame'>\n",
      "RangeIndex: 1048 entries, 0 to 1047\n",
      "Data columns (total 10 columns):\n",
      "pclass      1048 non-null int64\n",
      "survived    1048 non-null int64\n",
      "name        1048 non-null object\n",
      "surname     1048 non-null object\n",
      "sex         1048 non-null object\n",
      "age         837 non-null float64\n",
      "sibsp       1048 non-null int64\n",
      "parch       1048 non-null int64\n",
      "fare        1047 non-null float64\n",
      "cabin       231 non-null object\n",
      "dtypes: float64(2), int64(4), object(4)\n",
      "memory usage: 82.0+ KB\n",
      "pclass        0\n",
      "survived      0\n",
      "name          0\n",
      "surname       0\n",
      "sex           0\n",
      "age         211\n",
      "sibsp         0\n",
      "parch         0\n",
      "fare          1\n",
      "cabin       817\n",
      "dtype: int64\n"
     ]
    }
   ],
   "source": [
    "train_df.info()\n",
    "missing_val_count_by_column = (train_df.isnull().sum())\n",
    "print(missing_val_count_by_column[missing_val_count_by_column > -1])"
   ]
  },
  {
   "cell_type": "markdown",
   "metadata": {},
   "source": [
    "#### Age\n",
    "Add age buckets and fill up unknown ages with most common age."
   ]
  },
  {
   "cell_type": "code",
   "execution_count": 114,
   "metadata": {},
   "outputs": [
    {
     "name": "stdout",
     "output_type": "stream",
     "text": [
      "<class 'pandas.core.frame.DataFrame'>\n",
      "RangeIndex: 1048 entries, 0 to 1047\n",
      "Data columns (total 10 columns):\n",
      "pclass      1048 non-null int64\n",
      "survived    1048 non-null int64\n",
      "name        1048 non-null object\n",
      "surname     1048 non-null object\n",
      "sex         1048 non-null object\n",
      "age         1048 non-null category\n",
      "sibsp       1048 non-null int64\n",
      "parch       1048 non-null int64\n",
      "fare        1047 non-null float64\n",
      "cabin       231 non-null object\n",
      "dtypes: category(1), float64(1), int64(4), object(4)\n",
      "memory usage: 75.2+ KB\n"
     ]
    }
   ],
   "source": [
    "def simplify_ages(df):\n",
    "    df.age = df.age.fillna(-0.5)\n",
    "    bins = (-1, 0, 5, 12, 18, 25, 35, 60, 120)\n",
    "    group_names = ['Unknown', 'Baby', 'Child', 'Teenager', 'Student', 'Young Adult', 'Adult', 'Senior']\n",
    "    categories = pd.cut(df.age, bins, labels=group_names)\n",
    "    df.age = categories\n",
    "    return df\n",
    "train_df = simplify_ages(train_df)\n",
    "train_df.info()\n",
    "\n",
    "test_df = simplify_ages(test_df)"
   ]
  },
  {
   "cell_type": "code",
   "execution_count": 115,
   "metadata": {},
   "outputs": [
    {
     "data": {
      "text/html": [
       "<div>\n",
       "<style scoped>\n",
       "    .dataframe tbody tr th:only-of-type {\n",
       "        vertical-align: middle;\n",
       "    }\n",
       "\n",
       "    .dataframe tbody tr th {\n",
       "        vertical-align: top;\n",
       "    }\n",
       "\n",
       "    .dataframe thead th {\n",
       "        text-align: right;\n",
       "    }\n",
       "</style>\n",
       "<table border=\"1\" class=\"dataframe\">\n",
       "  <thead>\n",
       "    <tr style=\"text-align: right;\">\n",
       "      <th></th>\n",
       "      <th>pclass</th>\n",
       "      <th>survived</th>\n",
       "      <th>name</th>\n",
       "      <th>surname</th>\n",
       "      <th>sex</th>\n",
       "      <th>age</th>\n",
       "      <th>sibsp</th>\n",
       "      <th>parch</th>\n",
       "      <th>fare</th>\n",
       "      <th>cabin</th>\n",
       "    </tr>\n",
       "  </thead>\n",
       "  <tbody>\n",
       "    <tr>\n",
       "      <th>0</th>\n",
       "      <td>1</td>\n",
       "      <td>1</td>\n",
       "      <td>Allen</td>\n",
       "      <td>Miss. Elisabeth Walton</td>\n",
       "      <td>female</td>\n",
       "      <td>Young Adult</td>\n",
       "      <td>0</td>\n",
       "      <td>0</td>\n",
       "      <td>211.3375</td>\n",
       "      <td>B5</td>\n",
       "    </tr>\n",
       "    <tr>\n",
       "      <th>1</th>\n",
       "      <td>1</td>\n",
       "      <td>1</td>\n",
       "      <td>Allison</td>\n",
       "      <td>Master. Hudson Trevor</td>\n",
       "      <td>male</td>\n",
       "      <td>Baby</td>\n",
       "      <td>1</td>\n",
       "      <td>2</td>\n",
       "      <td>151.5500</td>\n",
       "      <td>C22 C26</td>\n",
       "    </tr>\n",
       "    <tr>\n",
       "      <th>2</th>\n",
       "      <td>1</td>\n",
       "      <td>0</td>\n",
       "      <td>Allison</td>\n",
       "      <td>Miss. Helen Loraine</td>\n",
       "      <td>female</td>\n",
       "      <td>Baby</td>\n",
       "      <td>1</td>\n",
       "      <td>2</td>\n",
       "      <td>151.5500</td>\n",
       "      <td>C22 C26</td>\n",
       "    </tr>\n",
       "    <tr>\n",
       "      <th>3</th>\n",
       "      <td>1</td>\n",
       "      <td>0</td>\n",
       "      <td>Allison</td>\n",
       "      <td>Mr. Hudson Joshua Creighton</td>\n",
       "      <td>male</td>\n",
       "      <td>Young Adult</td>\n",
       "      <td>1</td>\n",
       "      <td>2</td>\n",
       "      <td>151.5500</td>\n",
       "      <td>C22 C26</td>\n",
       "    </tr>\n",
       "    <tr>\n",
       "      <th>4</th>\n",
       "      <td>1</td>\n",
       "      <td>1</td>\n",
       "      <td>Anderson</td>\n",
       "      <td>Mr. Harry</td>\n",
       "      <td>male</td>\n",
       "      <td>Adult</td>\n",
       "      <td>0</td>\n",
       "      <td>0</td>\n",
       "      <td>26.5500</td>\n",
       "      <td>E12</td>\n",
       "    </tr>\n",
       "  </tbody>\n",
       "</table>\n",
       "</div>"
      ],
      "text/plain": [
       "   pclass  survived      name                      surname     sex  \\\n",
       "0       1         1     Allen       Miss. Elisabeth Walton  female   \n",
       "1       1         1   Allison        Master. Hudson Trevor    male   \n",
       "2       1         0   Allison          Miss. Helen Loraine  female   \n",
       "3       1         0   Allison  Mr. Hudson Joshua Creighton    male   \n",
       "4       1         1  Anderson                    Mr. Harry    male   \n",
       "\n",
       "           age  sibsp  parch      fare    cabin  \n",
       "0  Young Adult      0      0  211.3375       B5  \n",
       "1         Baby      1      2  151.5500  C22 C26  \n",
       "2         Baby      1      2  151.5500  C22 C26  \n",
       "3  Young Adult      1      2  151.5500  C22 C26  \n",
       "4        Adult      0      0   26.5500      E12  "
      ]
     },
     "execution_count": 115,
     "metadata": {},
     "output_type": "execute_result"
    }
   ],
   "source": [
    "train_df.head()"
   ]
  },
  {
   "cell_type": "code",
   "execution_count": 116,
   "metadata": {
    "scrolled": true
   },
   "outputs": [
    {
     "name": "stdout",
     "output_type": "stream",
     "text": [
      "           age    N\n",
      "0      Unknown  211\n",
      "1         Baby   40\n",
      "2        Child   34\n",
      "3     Teenager   81\n",
      "4      Student  204\n",
      "5  Young Adult  216\n",
      "6        Adult  234\n",
      "7       Senior   28\n"
     ]
    }
   ],
   "source": [
    "# Replace 'Unknown' with most common age group\n",
    "ages = train_df.groupby(\"age\").size().reset_index(name='N')\n",
    "print(ages)\n",
    "most_common_age = ages.age[ages.N == max(ages.N)]\n",
    "# extract single value, else the below lambda function does not work\n",
    "most_common_age = most_common_age.values[0]\n",
    "# most common age is Adult\n",
    "train_df.age = train_df.age.apply(lambda age: most_common_age if age == 'Unknown' else age)\n",
    "\n",
    "test_df.age = test_df.age.apply(lambda age: most_common_age if age == 'Unknown' else age)"
   ]
  },
  {
   "cell_type": "code",
   "execution_count": 117,
   "metadata": {},
   "outputs": [
    {
     "name": "stderr",
     "output_type": "stream",
     "text": [
      "/home/tgrossen/.anaconda3/envs/cas-infe-18-titanic/lib/python3.6/site-packages/scipy/stats/stats.py:1713: FutureWarning: Using a non-tuple sequence for multidimensional indexing is deprecated; use `arr[tuple(seq)]` instead of `arr[seq]`. In the future this will be interpreted as an array index, `arr[np.array(seq)]`, which will result either in an error or a different result.\n",
      "  return np.add.reduce(sorted[indexer] * weights, axis=axis) / sumval\n"
     ]
    },
    {
     "data": {
      "text/plain": [
       "<matplotlib.axes._subplots.AxesSubplot at 0x7f03d99ea470>"
      ]
     },
     "execution_count": 117,
     "metadata": {},
     "output_type": "execute_result"
    },
    {
     "data": {
      "image/png": "[encoded data removed]",
      "text/plain": [
       "<Figure size 432x288 with 1 Axes>"
      ]
     },
     "metadata": {
      "needs_background": "light"
     },
     "output_type": "display_data"
    }
   ],
   "source": [
    "sns.barplot(x='sex', y='survived',data=train_df)"
   ]
  },
  {
   "cell_type": "code",
   "execution_count": 118,
   "metadata": {},
   "outputs": [
    {
     "name": "stderr",
     "output_type": "stream",
     "text": [
      "/home/tgrossen/.anaconda3/envs/cas-infe-18-titanic/lib/python3.6/site-packages/scipy/stats/stats.py:1713: FutureWarning: Using a non-tuple sequence for multidimensional indexing is deprecated; use `arr[tuple(seq)]` instead of `arr[seq]`. In the future this will be interpreted as an array index, `arr[np.array(seq)]`, which will result either in an error or a different result.\n",
      "  return np.add.reduce(sorted[indexer] * weights, axis=axis) / sumval\n"
     ]
    },
    {
     "data": {
      "image/png": "[encoded data removed]",
      "text/plain": [
       "<Figure size 432x288 with 1 Axes>"
      ]
     },
     "metadata": {
      "needs_background": "light"
     },
     "output_type": "display_data"
    }
   ],
   "source": [
    "sns.pointplot(x='pclass', y='survived', hue='sex', data=train_df,\n",
    "              palette={'male': 'blue', 'female': 'pink'},\n",
    "              markers=['*', 'o'], linestyles=['-', '--']);"
   ]
  },
  {
   "cell_type": "markdown",
   "metadata": {},
   "source": [
    "### Feature Engineering"
   ]
  },
  {
   "cell_type": "code",
   "execution_count": 119,
   "metadata": {},
   "outputs": [
    {
     "name": "stdout",
     "output_type": "stream",
     "text": [
      "<class 'pandas.core.frame.DataFrame'>\n",
      "RangeIndex: 1048 entries, 0 to 1047\n",
      "Data columns (total 4 columns):\n",
      "survived    1048 non-null int64\n",
      "sex         1048 non-null object\n",
      "age         1048 non-null object\n",
      "pclass      1048 non-null int64\n",
      "dtypes: int64(2), object(2)\n",
      "memory usage: 32.8+ KB\n",
      "survived    0\n",
      "sex         0\n",
      "age         0\n",
      "pclass      0\n",
      "dtype: int64\n"
     ]
    },
    {
     "name": "stderr",
     "output_type": "stream",
     "text": [
      "/home/tgrossen/.anaconda3/envs/cas-infe-18-titanic/lib/python3.6/site-packages/pandas/core/indexing.py:1472: FutureWarning: \n",
      "Passing list-likes to .loc or [] with any missing label will raise\n",
      "KeyError in the future, you can use .reindex() as an alternative.\n",
      "\n",
      "See the documentation here:\n",
      "https://pandas.pydata.org/pandas-docs/stable/indexing.html#deprecate-loc-reindex-listlike\n",
      "  return self._getitem_tuple(key)\n"
     ]
    }
   ],
   "source": [
    "# for the moment, drop everything except sex, age and pclass\n",
    "train_df = train_df.loc[:, ['survived', 'sex', 'age', 'pclass']]\n",
    "train_df.info()\n",
    "missing_val_count_by_column = (train_df.isnull().sum())\n",
    "print(missing_val_count_by_column[missing_val_count_by_column > -1])\n",
    "\n",
    "test_df = test_df.loc[:, ['survived', 'sex', 'age', 'pclass']]\n"
   ]
  },
  {
   "cell_type": "code",
   "execution_count": 120,
   "metadata": {},
   "outputs": [
    {
     "name": "stdout",
     "output_type": "stream",
     "text": [
      "<class 'pandas.core.frame.DataFrame'>\n",
      "RangeIndex: 1048 entries, 0 to 1047\n",
      "Data columns (total 11 columns):\n",
      "survived           1048 non-null int64\n",
      "pclass             1048 non-null int64\n",
      "sex_female         1048 non-null uint8\n",
      "sex_male           1048 non-null uint8\n",
      "age_Adult          1048 non-null uint8\n",
      "age_Baby           1048 non-null uint8\n",
      "age_Child          1048 non-null uint8\n",
      "age_Senior         1048 non-null uint8\n",
      "age_Student        1048 non-null uint8\n",
      "age_Teenager       1048 non-null uint8\n",
      "age_Young Adult    1048 non-null uint8\n",
      "dtypes: int64(2), uint8(9)\n",
      "memory usage: 25.7 KB\n"
     ]
    }
   ],
   "source": [
    "# enable one-hot-encoding\n",
    "train_df = pd.get_dummies(train_df)\n",
    "train_df.info()\n",
    "train_df.head()\n",
    "\n",
    "test_df = pd.get_dummies(test_df)"
   ]
  },
  {
   "cell_type": "markdown",
   "metadata": {},
   "source": [
    "### Training"
   ]
  },
  {
   "cell_type": "code",
   "execution_count": 123,
   "metadata": {},
   "outputs": [
    {
     "name": "stdout",
     "output_type": "stream",
     "text": [
      "<class 'pandas.core.frame.DataFrame'>\n",
      "RangeIndex: 1048 entries, 0 to 1047\n",
      "Data columns (total 11 columns):\n",
      "survived           1048 non-null int64\n",
      "pclass             1048 non-null int64\n",
      "sex_female         1048 non-null uint8\n",
      "sex_male           1048 non-null uint8\n",
      "age_Adult          1048 non-null uint8\n",
      "age_Baby           1048 non-null uint8\n",
      "age_Child          1048 non-null uint8\n",
      "age_Senior         1048 non-null uint8\n",
      "age_Student        1048 non-null uint8\n",
      "age_Teenager       1048 non-null uint8\n",
      "age_Young Adult    1048 non-null uint8\n",
      "dtypes: int64(2), uint8(9)\n",
      "memory usage: 25.7 KB\n",
      "<class 'pandas.core.frame.DataFrame'>\n",
      "RangeIndex: 261 entries, 0 to 260\n",
      "Data columns (total 11 columns):\n",
      "survived           0 non-null float64\n",
      "pclass             261 non-null int64\n",
      "sex_female         261 non-null uint8\n",
      "sex_male           261 non-null uint8\n",
      "age_Adult          261 non-null uint8\n",
      "age_Baby           261 non-null uint8\n",
      "age_Child          261 non-null uint8\n",
      "age_Senior         261 non-null uint8\n",
      "age_Student        261 non-null uint8\n",
      "age_Teenager       261 non-null uint8\n",
      "age_Young Adult    261 non-null uint8\n",
      "dtypes: float64(1), int64(1), uint8(9)\n",
      "memory usage: 6.5 KB\n"
     ]
    },
    {
     "data": {
      "text/plain": [
       "array([1., 0., 0., 0., 1., 0., 0., 0., 1., 0., 1., 1., 0., 1., 0., 1., 0.,\n",
       "       0., 1., 1., 1., 0., 0., 0., 1., 1., 1., 1., 1., 1., 0., 1., 0., 1.,\n",
       "       0., 0., 0., 0., 0., 1., 1., 0., 1., 0., 0., 1., 0., 0., 0., 0., 0.,\n",
       "       0., 0., 0., 0., 0., 1., 1., 0., 0., 1., 1., 1., 1., 1., 1., 0., 1.,\n",
       "       1., 1., 0., 1., 0., 1., 0., 1., 0., 0., 0., 0., 0., 0., 0., 0., 0.,\n",
       "       0., 1., 0., 0., 1., 0., 0., 0., 1., 0., 1., 1., 1., 1., 0., 0., 0.,\n",
       "       1., 0., 0., 1., 1., 0., 0., 1., 0., 1., 1., 0., 0., 0., 1., 1., 0.,\n",
       "       1., 1., 0., 0., 0., 1., 0., 0., 0., 0., 0., 0., 1., 0., 0., 0., 0.,\n",
       "       0., 0., 0., 0., 0., 1., 0., 0., 0., 0., 0., 0., 0., 0., 0., 0., 0.,\n",
       "       0., 0., 0., 0., 0., 1., 0., 0., 0., 0., 0., 0., 1., 0., 0., 0., 0.,\n",
       "       0., 1., 0., 0., 0., 0., 0., 0., 0., 0., 0., 0., 0., 0., 0., 0., 1.,\n",
       "       0., 0., 0., 0., 0., 0., 0., 0., 0., 0., 0., 0., 0., 0., 0., 0., 0.,\n",
       "       0., 0., 0., 0., 0., 0., 0., 0., 0., 0., 0., 0., 0., 0., 0., 0., 0.,\n",
       "       0., 0., 0., 0., 0., 0., 0., 0., 0., 0., 0., 0., 0., 0., 0., 0., 1.,\n",
       "       0., 0., 0., 1., 0., 0., 0., 0., 0., 0., 1., 0., 0., 0., 0., 0., 0.,\n",
       "       1., 0., 0., 0., 0., 1.])"
      ]
     },
     "execution_count": 123,
     "metadata": {},
     "output_type": "execute_result"
    }
   ],
   "source": [
    "X_train = train_df.drop(['survived'], axis=1)\n",
    "y_train = train_df['survived']\n",
    "\n",
    "X_test = test_df.drop(['survived'], axis=1)\n",
    "y_test = test_df['survived']\n",
    "\n",
    "forest = RandomForestClassifier(n_estimators=100)\n",
    "\n",
    "forest = forest.fit(X_train, y_train)\n",
    "\n",
    "train_df.info()\n",
    "test_df.info()\n",
    "# predict output of test_df\n",
    "output = forest.predict(X_test).astype(np.float)\n",
    "output\n",
    "\n"
   ]
  },
  {
   "cell_type": "code",
   "execution_count": null,
   "metadata": {},
   "outputs": [],
   "source": [
    "\n",
    "# Create DataFrame for outputfile\n",
    "df = pd.DataFrame(columns=['id', 'survived'])\n",
    "df['id'] = test_ids\n",
    "df['survived'] = output.astype(int)\n",
    "\n",
    "# Write the data into a file\n",
    "th.write_csv(df=df)\n",
    "\n",
    "# automagically submit to server\n",
    "th.submit_answer(df, custom_name='random_forest_reloaded')\n"
   ]
  }
 ],
 "metadata": {
  "kernelspec": {
   "display_name": "Python 3",
   "language": "python",
   "name": "python3"
  },
  "language_info": {
   "codemirror_mode": {
    "name": "ipython",
    "version": 3
   },
   "file_extension": ".py",
   "mimetype": "text/x-python",
   "name": "python",
   "nbconvert_exporter": "python",
   "pygments_lexer": "ipython3",
   "version": "3.6.6"
  }
 },
 "nbformat": 4,
 "nbformat_minor": 1
}
